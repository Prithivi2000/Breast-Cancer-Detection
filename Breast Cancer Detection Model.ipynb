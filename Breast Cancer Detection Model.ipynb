{
 "cells": [
  {
   "cell_type": "markdown",
   "metadata": {},
   "source": [
    "## Detection Model"
   ]
  },
  {
   "cell_type": "code",
   "execution_count": 1,
   "metadata": {},
   "outputs": [],
   "source": [
    "from joblib import dump, load\n",
    "import numpy as np"
   ]
  },
  {
   "cell_type": "code",
   "execution_count": 2,
   "metadata": {},
   "outputs": [],
   "source": [
    "model = load('Breast Cancer Detection.joblib')"
   ]
  },
  {
   "cell_type": "markdown",
   "metadata": {},
   "source": [
    "## Before Giving Patient Info..One should read the chart provided in the Labels for information.txt first for most accurate results"
   ]
  },
  {
   "cell_type": "markdown",
   "metadata": {},
   "source": [
    "## Enter Patient Information :"
   ]
  },
  {
   "cell_type": "code",
   "execution_count": 3,
   "metadata": {},
   "outputs": [
    {
     "name": "stdout",
     "output_type": "stream",
     "text": [
      "Class:1\n",
      "Age:4\n",
      "Stage of Menopause1\n",
      "TumorSize:10\n",
      "Invnodes:2\n",
      "Nodecaps:1\n",
      "Degree of malignancy:2\n"
     ]
    }
   ],
   "source": [
    "Class = int(input(\"Class:\"))\n",
    "Age = int(input(\"Age:\"))\n",
    "Menopause = int(input(\"Stage of Menopause\"))\n",
    "TumorSize = int(input(\"TumorSize:\"))\n",
    "invnodes = int(input(\"Invnodes:\"))\n",
    "Nodecaps = int(input(\"Nodecaps:\"))\n",
    "Degmalig = int(input(\"Degree of malignancy:\"))\n"
   ]
  },
  {
   "cell_type": "code",
   "execution_count": 13,
   "metadata": {},
   "outputs": [
    {
     "name": "stdout",
     "output_type": "stream",
     "text": [
      "Breast side[Left/Right]:1\n",
      "Breast Quadrant:0\n"
     ]
    }
   ],
   "source": [
    "Breast = int(input(\"Breast side[Left/Right]:\"))\n",
    "Breastquad = int(input(\"Breast Quadrant:\"))"
   ]
  },
  {
   "cell_type": "code",
   "execution_count": 14,
   "metadata": {},
   "outputs": [],
   "source": [
    "features = np.array([[Class,\n",
    "Age,\n",
    "Menopause,\n",
    "TumorSize,\n",
    "invnodes,\n",
    "Nodecaps,\n",
    "Degmalig,\n",
    "Breast,\n",
    "Breastquad]])"
   ]
  },
  {
   "cell_type": "markdown",
   "metadata": {},
   "source": [
    "## Final Report"
   ]
  },
  {
   "cell_type": "code",
   "execution_count": 15,
   "metadata": {},
   "outputs": [
    {
     "name": "stdout",
     "output_type": "stream",
     "text": [
      "Presence Of Breast Cancer Not Detected in The Folowing Breast Quadrant\n"
     ]
    }
   ],
   "source": [
    "detect = model.predict(features)\n",
    "if detect == [1]:\n",
    "    print(\"Presence Of Breast Cancer is Detected in The Folowing Breast Quadrant\")\n",
    "elif detect == [0]:\n",
    "    print(\"Presence Of Breast Cancer Not Detected in The Folowing Breast Quadrant\")\n",
    "else:\n",
    "    print(\"Model Failed\")\n",
    "    "
   ]
  },
  {
   "cell_type": "code",
   "execution_count": null,
   "metadata": {},
   "outputs": [],
   "source": []
  }
 ],
 "metadata": {
  "kernelspec": {
   "display_name": "Python 3",
   "language": "python",
   "name": "python3"
  },
  "language_info": {
   "codemirror_mode": {
    "name": "ipython",
    "version": 3
   },
   "file_extension": ".py",
   "mimetype": "text/x-python",
   "name": "python",
   "nbconvert_exporter": "python",
   "pygments_lexer": "ipython3",
   "version": "3.7.6"
  }
 },
 "nbformat": 4,
 "nbformat_minor": 4
}
